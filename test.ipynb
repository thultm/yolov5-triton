{
 "cells": [
  {
   "cell_type": "code",
   "execution_count": 49,
   "metadata": {},
   "outputs": [],
   "source": [
    "from main import *\n",
    "from utils import load_session\n",
    "from preprocess import resize_and_pad"
   ]
  },
  {
   "cell_type": "code",
   "execution_count": 50,
   "metadata": {},
   "outputs": [],
   "source": [
    "class CFG:\n",
    "    image_size = IMAGE_SIZE\n",
    "    conf_thres = 0.005\n",
    "    iou_thres = 0.1\n",
    "\n",
    "cfg = CFG()"
   ]
  },
  {
   "cell_type": "code",
   "execution_count": 51,
   "metadata": {},
   "outputs": [],
   "source": [
    "session = load_session(PATH_MODEL)"
   ]
  },
  {
   "cell_type": "code",
   "execution_count": 52,
   "metadata": {},
   "outputs": [
    {
     "data": {
      "text/plain": [
       "['CPUExecutionProvider']"
      ]
     },
     "execution_count": 52,
     "metadata": {},
     "output_type": "execute_result"
    }
   ],
   "source": [
    "session.get_providers()"
   ]
  },
  {
   "cell_type": "code",
   "execution_count": 53,
   "metadata": {},
   "outputs": [],
   "source": [
    "from PIL import Image, ImageDraw\n"
   ]
  },
  {
   "cell_type": "code",
   "execution_count": 54,
   "metadata": {},
   "outputs": [
    {
     "name": "stdout",
     "output_type": "stream",
     "text": [
      "(720, 960, 3)\n"
     ]
    }
   ],
   "source": [
    "image_cv = cv2.imread(\"sample/6.jpg\")\n",
    "print(image_cv.shape)"
   ]
  },
  {
   "cell_type": "code",
   "execution_count": 55,
   "metadata": {},
   "outputs": [
    {
     "name": "stdout",
     "output_type": "stream",
     "text": [
      "(1, 3, 448, 448)\n",
      "<class 'numpy.ndarray'>\n",
      "(1, 3)\n",
      "<class 'numpy.ndarray'>\n",
      "[[ 0.46666667  0.         56.        ]]\n",
      "float64\n"
     ]
    }
   ],
   "source": [
    "image, ratio, (padd_left, padd_top) = resize_and_pad(image_cv, new_shape=cfg.image_size) #(448,448)\n",
    "img_norm = normalization_input(image)\n",
    "print(img_norm.shape)\n",
    "print(type(img_norm))\n",
    "config = np.array([ratio, padd_left, padd_top])\n",
    "config = np.expand_dims(config, axis=0)\n",
    "print(config.shape)\n",
    "print(type(config))\n",
    "print(config)\n",
    "# Dtype of config\n",
    "print(config.dtype)"
   ]
  },
  {
   "cell_type": "code",
   "execution_count": 56,
   "metadata": {},
   "outputs": [
    {
     "name": "stdout",
     "output_type": "stream",
     "text": [
      "(0.4666666666666667, 0, 56)\n",
      "<class 'tuple'>\n",
      "<class 'numpy.ndarray'>\n",
      "0.4666666666666667\n"
     ]
    }
   ],
   "source": [
    "resized_config = ratio, padd_left, padd_top\n",
    "print(resized_config)\n",
    "print(type(resized_config))\n",
    "# Convert tuple to np array\n",
    "resized_config = np.array(resized_config)\n",
    "print(type(resized_config))\n",
    "print(ratio)"
   ]
  },
  {
   "cell_type": "code",
   "execution_count": 57,
   "metadata": {},
   "outputs": [
    {
     "name": "stdout",
     "output_type": "stream",
     "text": [
      "123480\n",
      "(1, 12348, 10)\n",
      "<class 'numpy.ndarray'>\n",
      "6\n",
      "(1, 6)\n",
      "<class 'numpy.ndarray'>\n"
     ]
    }
   ],
   "source": [
    "pred = infer(session, img_norm)\n",
    "print(pred.size)\n",
    "print(pred.shape)\n",
    "print(type(pred))\n",
    "pred = postprocess(pred)[0] \n",
    "print(pred.size)\n",
    "print(pred.shape)\n",
    "print(type(pred))"
   ]
  },
  {
   "cell_type": "code",
   "execution_count": 58,
   "metadata": {},
   "outputs": [
    {
     "name": "stdout",
     "output_type": "stream",
     "text": [
      "[[7.01639884e+02 4.82608730e+02 8.45252904e+02 6.04047677e+02\n",
      "  8.34450066e-01 2.00000000e+00]]\n",
      "(1, 6)\n"
     ]
    }
   ],
   "source": [
    "paddings = np.array([padd_left, padd_top, padd_left, padd_top])\n",
    "pred[:,:4] = (pred[:,:4] - paddings) / ratio\n",
    "print(pred)\n",
    "print(pred.shape)"
   ]
  },
  {
   "cell_type": "code",
   "execution_count": 59,
   "metadata": {},
   "outputs": [
    {
     "name": "stdout",
     "output_type": "stream",
     "text": [
      "(720, 960, 3)\n",
      "602112\n",
      "(448, 448, 3)\n",
      "6\n",
      "<class 'PIL.Image.Image'>\n",
      "<class 'numpy.ndarray'>\n",
      "(720, 960, 3)\n",
      "<class 'numpy.ndarray'>\n"
     ]
    }
   ],
   "source": [
    "print(image_cv.shape)\n",
    "print(image.size)\n",
    "print(image.shape)\n",
    "print(pred.size)\n",
    "result = visualize(image, image_cv, pred)\n",
    "print(type(result))"
   ]
  },
  {
   "cell_type": "code",
   "execution_count": 60,
   "metadata": {},
   "outputs": [
    {
     "name": "stdout",
     "output_type": "stream",
     "text": [
      "(1, 6)\n"
     ]
    }
   ],
   "source": [
    "print(pred.shape)"
   ]
  },
  {
   "cell_type": "code",
   "execution_count": null,
   "metadata": {},
   "outputs": [],
   "source": []
  }
 ],
 "metadata": {
  "kernelspec": {
   "display_name": "fpt",
   "language": "python",
   "name": "python3"
  },
  "language_info": {
   "codemirror_mode": {
    "name": "ipython",
    "version": 3
   },
   "file_extension": ".py",
   "mimetype": "text/x-python",
   "name": "python",
   "nbconvert_exporter": "python",
   "pygments_lexer": "ipython3",
   "version": "3.10.13"
  }
 },
 "nbformat": 4,
 "nbformat_minor": 2
}
